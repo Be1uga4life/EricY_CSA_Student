{
 "cells": [
  {
   "cell_type": "markdown",
   "metadata": {},
   "source": [
    "---\n",
    "layout: post\n",
    "title: CollegeBoard FRQ Reflection Hard\n",
    "description: CollegeBoard FRQ Reflection Hard\n",
    "type: collab\n",
    "toc: true\n",
    "permalink: FRQ/corrections2015hard\n",
    "comments: true\n",
    "author: Eric Yu\n",
    "categories: [Collaboration]\n",
    "---"
   ]
  },
  {
   "cell_type": "markdown",
   "metadata": {},
   "source": [
    "### Collegeboard FRQ"
   ]
  },
  {
   "cell_type": "markdown",
   "metadata": {},
   "source": [
    "# AP Computer Science A - FRQ Analysis\n",
    "\n",
    "## Question: Guessing Game\n",
    "\n",
    "### My Score Breakdown\n",
    "\n",
    "I implemented the `HiddenWord` class, and according to the rubric, here’s how I did:\n",
    "\n",
    "| Points | Criteria | Status |\n",
    "|--------|----------|--------|\n",
    "| **+1** | Used the correct class, constructor, and method headers | ✅ |\n",
    "| **+1** | Declared `private` instance variable | ✅ |\n",
    "| **+1** | Initialized the instance variable properly in the constructor | ✅ |\n",
    "| **+6** | Implemented `getHint` method: | ✅ |\n",
    "| **+1** | Looped through all letters in both `guess` and `hiddenWord` without index errors | ✅ |\n",
    "| **+4** | Processed each letter correctly: | ✅ |\n",
    "| **+1** | Extracted and compared letters from `guess` and `hiddenWord` | ✅ |\n",
    "| **+1** | Checked if letters were in the same position | ✅ |\n",
    "| **+1** | Checked if letters were in the word but in the wrong spot | ✅ |\n",
    "| **+1** | Added the correct character (`letter`, `+`, or `*`) to the hint | ✅ |\n",
    "| **+1** | Constructed and returned the hint string | ✅ |\n",
    "\n",
    "### Possible Deductions\n",
    "\n",
    "| Possible Deduction | Reason |\n",
    "|-------------------|--------|\n",
    "| **-1** | If I used `.get()` instead of `charAt()` to access letters in strings |\n",
    "| **-2** | If I accidentally used the wrong variable name instead of `hiddenWord` |\n",
    "\n",
    "### Additional Consideration\n",
    "\n",
    "It is possible I lose points for multiple letters? \n",
    "\n",
    "For example, in `SHARP`, if I already got the first `S` correct but guessed `S` for the last character, should it show a `+` or a `*`? \n",
    "\n",
    "### Final Thoughts\n",
    "\n",
    "I managed this one pretty well, although  the time was slightly edge.\n"
   ]
  },
  {
   "cell_type": "code",
   "execution_count": null,
   "metadata": {
    "vscode": {
     "languageId": "java"
    }
   },
   "outputs": [
    {
     "name": "stdout",
     "output_type": "stream",
     "text": [
      "+A+++\n",
      "HARPS\n",
      "+++++\n"
     ]
    }
   ],
   "source": [
    "public class HiddenWord {\n",
    "    private String hiddenWord;\n",
    "\n",
    "    public HiddenWord(String hiddenWord) {\n",
    "        this.hiddenWord = hiddenWord;\n",
    "    }\n",
    "\n",
    "    public String getHint(String guess) {\n",
    "        StringBuilder hint = new StringBuilder();\n",
    "        for (int i = 0; i < guess.length(); i++) {\n",
    "            char guessChar = guess.charAt(i);\n",
    "            if (guessChar == hiddenWord.charAt(i)) {\n",
    "                hint.append(guessChar);\n",
    "            } else if (hiddenWord.indexOf(guessChar) != -1) {\n",
    "                hint.append('+'); \n",
    "            } else {\n",
    "                hint.append('*'); \n",
    "            }\n",
    "        }\n",
    "        return hint.toString();\n",
    "    }\n",
    "\n",
    "    public static void main(String[] args) {\n",
    "        HiddenWord puzzle = new HiddenWord(\"HARPS\");\n",
    "        System.out.println(puzzle.getHint(\"AAAAA\"));\n",
    "        System.out.println(puzzle.getHint(\"HARPS\"));\n",
    "        System.out.println(puzzle.getHint(\"SHARP\")); \n",
    "    }\n",
    "}\n",
    "\n",
    "HiddenWord.main(null)"
   ]
  }
 ],
 "metadata": {
  "kernelspec": {
   "display_name": "Java",
   "language": "java",
   "name": "java"
  },
  "language_info": {
   "codemirror_mode": "java",
   "file_extension": ".jshell",
   "mimetype": "text/x-java-source",
   "name": "Java",
   "pygments_lexer": "java",
   "version": "11.0.26+4-post-Ubuntu-1ubuntu122.04"
  }
 },
 "nbformat": 4,
 "nbformat_minor": 2
}
