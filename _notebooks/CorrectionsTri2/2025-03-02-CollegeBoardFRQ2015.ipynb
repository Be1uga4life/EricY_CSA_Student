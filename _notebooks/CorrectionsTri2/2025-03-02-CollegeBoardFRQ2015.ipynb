{
 "cells": [
  {
   "cell_type": "markdown",
   "metadata": {},
   "source": [
    "---\n",
    "layout: post\n",
    "title: CollegeBoard FRQ Reflection\n",
    "description: CollegeBoard FRQ Reflection\n",
    "type: collab\n",
    "toc: true\n",
    "permalink: FRQ/corrections\n",
    "comments: true\n",
    "author: Eric Yu\n",
    "categories: [Collaboration]\n",
    "---"
   ]
  },
  {
   "cell_type": "markdown",
   "metadata": {},
   "source": [
    "### Collegeboard FRQ"
   ]
  },
  {
   "cell_type": "markdown",
   "metadata": {},
   "source": [
    "# 2015 AP CSA Practice Exam FRQ - Grading & Code\n",
    "\n",
    "## **Part (a): `arraySum`**\n",
    "### **Score: 4/4 (Full Credit)**\n",
    "#### **Explanation:**\n",
    "- ✅ Correctly initializes `sum` to 0.\n",
    "- ✅ Uses a `for` loop to iterate through the array.\n",
    "- ✅ Correctly accumulates the sum of all elements.\n",
    "- ✅ Returns the correct sum.\n",
    "\n",
    "```java\n",
    "public static int arraySum(int[] arr) {\n",
    "    int sum = 0;\n",
    "    for (int i = 0; i < arr.length; i++) {\n",
    "        sum += arr[i];\n",
    "    }\n",
    "    return sum;\n",
    "}\n",
    "```\n",
    "\n",
    "## **Part (b): `rowSums`**  \n",
    "**Score: 4/4 (Full Credit)**  \n",
    "### **Explanation:**\n",
    "✅ Creates a new array `sums` with the correct size.  \n",
    "✅ Iterates through each row of the 2D array.  \n",
    "✅ Calls `arraySum` correctly for each row.  \n",
    "✅ Stores the computed sum in the correct index of `sums`.  \n",
    "✅ Returns the expected array.  \n",
    "\n",
    "```java\n",
    "public static int[] rowSums(int[][] arr2D) {\n",
    "    int[] sums = new int[arr2D.length];\n",
    "    for (int i = 0; i < arr2D.length; i++) {\n",
    "        sums[i] = arraySum(arr2D[i]);\n",
    "    }\n",
    "    return sums;\n",
    "}\n",
    "```\n",
    "\n",
    "## **Part (): `isDiverse`**  \n",
    "**Score: 4/4 (Full Credit)**  \n",
    "### **Explanation:**\n",
    "✅ Calls rowSums(arr2D) correctly.\n",
    "✅ Uses nested loops to compare each pair of sums.\n",
    "✅ If duplicate sums are found, returns false.\n",
    "✅ If no duplicates exist, returns true.\n",
    "```java\n",
    "public static boolean isDiverse(int[][] arr2D) {\n",
    "    int[] sums = rowSums(arr2D);\n",
    "    for (int i = 0; i < sums.length; i++) {\n",
    "        for (int j = i + 1; j < sums.length; j++) {\n",
    "            if (sums[i] == sums[j]) {\n",
    "                return false;\n",
    "            }\n",
    "        }\n",
    "    }\n",
    "    return true;\n",
    "}\n",
    "```"
   ]
  },
  {
   "cell_type": "markdown",
   "metadata": {},
   "source": [
    "### Strengths and Weaknesses\n",
    "\n",
    "Strengths:\n",
    "- Decently good at FRQs, not too much trouble\n",
    "\n",
    "\n",
    "Weaknesses\n",
    "- Sometimes code can be slightly inefficient and timing may be an issue"
   ]
  }
 ],
 "metadata": {
  "kernelspec": {
   "display_name": "Java",
   "language": "java",
   "name": "java"
  },
  "language_info": {
   "codemirror_mode": "java",
   "file_extension": ".jshell",
   "mimetype": "text/x-java-source",
   "name": "Java",
   "pygments_lexer": "java",
   "version": "11.0.26+4-post-Ubuntu-1ubuntu122.04"
  }
 },
 "nbformat": 4,
 "nbformat_minor": 2
}
