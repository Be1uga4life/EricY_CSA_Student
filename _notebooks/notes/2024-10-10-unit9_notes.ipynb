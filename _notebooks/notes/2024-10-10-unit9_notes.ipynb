{
 "cells": [
  {
   "cell_type": "raw",
   "metadata": {
    "vscode": {
     "languageId": "raw"
    }
   },
   "source": [
    "---\n",
    "layout: post\n",
    "title: Unit 9 Notes\n",
    "description: A summary of everything we did \n",
    "type: collab\n",
    "toc: true\n",
    "permalink: notes/Unit9/\n",
    "menu: nav/CSA_Units/csa_notes.html\n",
    "comments: true\n",
    "author: Eric Yu\n",
    "---"
   ]
  },
  {
   "cell_type": "markdown",
   "metadata": {
    "vscode": {
     "languageId": "java"
    }
   },
   "source": [
    "# Unit 9: Inheritance"
   ]
  },
  {
   "cell_type": "markdown",
   "metadata": {},
   "source": [
    "### What is Inheritance?"
   ]
  },
  {
   "cell_type": "markdown",
   "metadata": {},
   "source": [
    "Inheritance is a fundamental concept in object-oriented programming (OOP) that allows one class (the subclass) to inherit fields and methods from another class (the superclass). This promotes code reusability and establishes a natural hierarchical relationship between classes."
   ]
  },
  {
   "cell_type": "code",
   "execution_count": null,
   "metadata": {
    "vscode": {
     "languageId": "java"
    }
   },
   "outputs": [],
   "source": [
    "public class Subclass extends Superclass {\n",
    "    // Subclass-specific fields and methods\n",
    "}"
   ]
  },
  {
   "cell_type": "markdown",
   "metadata": {},
   "source": [
    "#### Superclass and Subclass:\n",
    "\n",
    "Superclass: A general class that contains common attributes and methods shared with its subclasses (also known as a parent class).\n",
    "\n",
    "\n",
    "Subclass: A class that extends the functionality of a superclass by inheriting its properties and methods while also introducing its own unique features (child class)."
   ]
  },
  {
   "cell_type": "markdown",
   "metadata": {},
   "source": [
    "___"
   ]
  },
  {
   "cell_type": "markdown",
   "metadata": {},
   "source": [
    "#### Polymorphism"
   ]
  },
  {
   "cell_type": "markdown",
   "metadata": {},
   "source": [
    "## Polymorphism in Object-Oriented Programming (OOP)\n",
    "\n",
    "Polymorphism is a core concept in object-oriented programming (OOP) that allows methods to perform different actions based on the object they are acting upon. It enables a single interface to represent various underlying forms (data types). \n",
    "\n",
    "In Java, polymorphism can be achieved through:\n",
    "\n",
    "### 1. Method Overriding\n",
    "Subclasses provide specific implementations of methods that are already defined in their superclass.\n",
    "\n",
    "### 2. Method Overloading\n",
    "Multiple methods can have the same name but different parameter lists (type, number, or both).\n"
   ]
  },
  {
   "cell_type": "code",
   "execution_count": null,
   "metadata": {
    "vscode": {
     "languageId": "java"
    }
   },
   "outputs": [],
   "source": [
    "// Superclass\n",
    "class Animal {\n",
    "    public void sound() {\n",
    "        System.out.println(\"Animal makes a sound\");\n",
    "    }\n",
    "}\n",
    "\n",
    "// Subclass Cat\n",
    "class Cat extends Animal {\n",
    "    @Override\n",
    "    public void sound() {\n",
    "        System.out.println(\"Cat meows\");\n",
    "    }\n",
    "}\n",
    "\n",
    "// Subclass Dog\n",
    "class Dog extends Animal {\n",
    "    @Override\n",
    "    public void sound() {\n",
    "        System.out.println(\"Dog barks\");\n",
    "    }\n",
    "}\n",
    "\n",
    "// Driver class\n",
    "public class PolymorphismExample {\n",
    "    public static void main(String[] args) {\n",
    "        // Creating objects of subclasses\n",
    "        Animal myCat = new Cat();\n",
    "        Animal myDog = new Dog();\n",
    "        \n",
    "        // Polymorphism in action\n",
    "        myCat.sound(); // Output: Cat meows\n",
    "        myDog.sound(); // Output: Dog barks\n",
    "    }\n",
    "}\n"
   ]
  }
 ],
 "metadata": {
  "kernelspec": {
   "display_name": "Java",
   "language": "java",
   "name": "java"
  },
  "language_info": {
   "codemirror_mode": "java",
   "file_extension": ".jshell",
   "mimetype": "text/x-java-source",
   "name": "Java",
   "pygments_lexer": "java",
   "version": "11.0.24+8-post-Ubuntu-1ubuntu322.04"
  }
 },
 "nbformat": 4,
 "nbformat_minor": 2
}
