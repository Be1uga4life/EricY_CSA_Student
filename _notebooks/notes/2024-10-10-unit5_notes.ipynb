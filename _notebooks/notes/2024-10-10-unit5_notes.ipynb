{
 "cells": [
  {
   "cell_type": "raw",
   "metadata": {
    "vscode": {
     "languageId": "raw"
    }
   },
   "source": [
    "---\n",
    "layout: post\n",
    "title: Unit 5 Notes\n",
    "description: A summary of everything we did \n",
    "type: collab\n",
    "toc: true\n",
    "permalink: notes/Unit5/\n",
    "menu: nav/CSA_Units/csa_notes.html\n",
    "comments: true\n",
    "author: Eric Yu\n",
    "---"
   ]
  },
  {
   "cell_type": "markdown",
   "metadata": {
    "vscode": {
     "languageId": "java"
    }
   },
   "source": [
    "# Unit 5"
   ]
  },
  {
   "cell_type": "markdown",
   "metadata": {},
   "source": [
    "### Anatomy of a Class"
   ]
  },
  {
   "cell_type": "markdown",
   "metadata": {},
   "source": [
    "Class Declaration: Starts with the class keyword, typically using access modifiers like public."
   ]
  },
  {
   "cell_type": "code",
   "execution_count": null,
   "metadata": {
    "vscode": {
     "languageId": "java"
    }
   },
   "outputs": [],
   "source": [
    "public class ExampleClass {\n",
    "    // class body\n",
    "}"
   ]
  },
  {
   "cell_type": "markdown",
   "metadata": {},
   "source": [
    "Instance Variables: Attributes of the class, often private, accessible via getters and setters."
   ]
  },
  {
   "cell_type": "code",
   "execution_count": null,
   "metadata": {
    "vscode": {
     "languageId": "java"
    }
   },
   "outputs": [],
   "source": [
    "private String color;\n",
    "private int num_eyes;"
   ]
  },
  {
   "cell_type": "markdown",
   "metadata": {},
   "source": [
    "Constructors: Special methods to initialize objects. Can be default or overloaded to handle different parameters."
   ]
  },
  {
   "cell_type": "code",
   "execution_count": null,
   "metadata": {
    "vscode": {
     "languageId": "java"
    }
   },
   "outputs": [],
   "source": [
    "public Minions(String c, int n) { color = c; num_eyes = n; }"
   ]
  },
  {
   "cell_type": "markdown",
   "metadata": {},
   "source": [
    "Methods: Define behaviors. Include accessor (getters) and mutator (setters) methods."
   ]
  },
  {
   "cell_type": "code",
   "execution_count": null,
   "metadata": {
    "vscode": {
     "languageId": "java"
    }
   },
   "outputs": [],
   "source": [
    "public String getColor() { return color; }\n",
    "public void setColor(String c) { color = c; }"
   ]
  },
  {
   "cell_type": "markdown",
   "metadata": {},
   "source": [
    "___"
   ]
  },
  {
   "cell_type": "markdown",
   "metadata": {},
   "source": [
    "### Constructors\n",
    "\n",
    "A constructor that does not take any parameters. Default Constructors initializes instance variables to default values"
   ]
  },
  {
   "cell_type": "markdown",
   "metadata": {},
   "source": [
    "### Parameterized Constructor\n",
    "\n",
    "A constructor that does not take any parameters. Default Constructors initializes instance variables to default values"
   ]
  },
  {
   "cell_type": "markdown",
   "metadata": {},
   "source": [
    "___"
   ]
  },
  {
   "cell_type": "markdown",
   "metadata": {},
   "source": [
    "### Accessor Methods\n",
    "\n",
    "Accessory methods (also known as getter methods) are special methods in a class that allow you to access the values of private instance variables from outside the class."
   ]
  },
  {
   "cell_type": "code",
   "execution_count": 4,
   "metadata": {
    "vscode": {
     "languageId": "java"
    }
   },
   "outputs": [
    {
     "name": "stdout",
     "output_type": "stream",
     "text": [
      "Kevin\n",
      "4.1\n",
      "Sprout-Cut\n",
      "2\n"
     ]
    }
   ],
   "source": [
    "public class Minion\n",
    "{\n",
    "    // Start by defining instance variables that you'll want to access later via the accessor methods\n",
    "    private double height;\n",
    "    private String name;\n",
    "    private String hair;\n",
    "    private int eyes;\n",
    "\n",
    "    // Default Constructor\n",
    "    //String n, int c\n",
    "    public Minion()\n",
    "    {\n",
    "        height = 3.7;\n",
    "        name = \"Bob\";\n",
    "        hair = \"None\";\n",
    "        eyes = 2;\n",
    "    }\n",
    "\n",
    "    // Overloaded Constructor\n",
    "    public Minion(double h, String n, String hr, int e)\n",
    "    {\n",
    "        height = h;\n",
    "        name = n;\n",
    "        hair = hr;\n",
    "        eyes = e;\n",
    "    }\n",
    "    // Accessor Methods!\n",
    "    public double getHeight()\n",
    "    {\n",
    "        return height;\n",
    "    }\n",
    "    public String getName()\n",
    "    {\n",
    "        return name;\n",
    "    }\n",
    "    public String getHair()\n",
    "    {\n",
    "        return hair;\n",
    "    }\n",
    "    public int getEyes()\n",
    "    {\n",
    "        return eyes;\n",
    "    }\n",
    "}\n",
    "\n",
    "// Create minion object Kevin\n",
    "Minion kevin = new Minion(4.10,\"Kevin\",\"Sprout-Cut\",2);\n",
    "\n",
    "// Print Kevin's properties\n",
    "System.out.println(kevin.getName());\n",
    "System.out.println(kevin.getHeight());\n",
    "System.out.println(kevin.getHair());\n",
    "System.out.println(kevin.getEyes());"
   ]
  },
  {
   "cell_type": "markdown",
   "metadata": {},
   "source": [
    "___"
   ]
  },
  {
   "cell_type": "markdown",
   "metadata": {},
   "source": [
    "### Mutator Methods\n",
    "\n",
    "Mutator methods (also known as setter methods) are special methods in a class that allow you to modify the values of private instance variables from outside the class."
   ]
  },
  {
   "cell_type": "code",
   "execution_count": 6,
   "metadata": {
    "vscode": {
     "languageId": "java"
    }
   },
   "outputs": [
    {
     "name": "stdout",
     "output_type": "stream",
     "text": [
      "Name: Alice\n",
      "Age: 30\n",
      "Updated Age: 35\n",
      "Age After Invalid Input: 0\n"
     ]
    }
   ],
   "source": [
    "public class Person {\n",
    "    private String name;  // Private instance variable\n",
    "    private int age;      // Private instance variable\n",
    "\n",
    "    // Constructor\n",
    "    public Person(String name, int age) {\n",
    "        this.name = name;\n",
    "        setAge(age);  // Use mutator to set age\n",
    "    }\n",
    "\n",
    "    // Accessor Method for name\n",
    "    public String getName() {\n",
    "        return name;  // Returns the name\n",
    "    }\n",
    "\n",
    "    // Accessor Method for age\n",
    "    public int getAge() {\n",
    "        return age;   // Returns the age\n",
    "    }\n",
    "\n",
    "    // Mutator Method for age\n",
    "    public void setAge(int age) {\n",
    "        if (age >= 0) {\n",
    "            this.age = age;  // Set age if valid\n",
    "        } else {\n",
    "            this.age = 0;    // Set to 0 if age is invalid\n",
    "        }\n",
    "    }\n",
    "}\n",
    "\n",
    "// Usage\n",
    "public class Main {\n",
    "    public static void main(String[] args) {\n",
    "        Person person = new Person(\"Alice\", 30);\n",
    "        \n",
    "        // Accessing values using accessor methods\n",
    "        System.out.println(\"Name: \" + person.getName()); // Output: Name: Alice\n",
    "        System.out.println(\"Age: \" + person.getAge());   // Output: Age: 30\n",
    "\n",
    "        // Modifying the age using mutator method\n",
    "        person.setAge(35);\n",
    "        System.out.println(\"Updated Age: \" + person.getAge()); // Output: Updated Age: 35\n",
    "\n",
    "        // Attempting to set an invalid age\n",
    "        person.setAge(-5); // This will set age to 0\n",
    "        System.out.println(\"Age After Invalid Input: \" + person.getAge()); // Output: Age After Invalid Input: 0\n",
    "    }\n",
    "}\n",
    "\n",
    "Main.main(null)"
   ]
  }
 ],
 "metadata": {
  "kernelspec": {
   "display_name": "Java",
   "language": "java",
   "name": "java"
  },
  "language_info": {
   "codemirror_mode": "java",
   "file_extension": ".jshell",
   "mimetype": "text/x-java-source",
   "name": "Java",
   "pygments_lexer": "java",
   "version": "11.0.24+8-post-Ubuntu-1ubuntu322.04"
  }
 },
 "nbformat": 4,
 "nbformat_minor": 2
}
