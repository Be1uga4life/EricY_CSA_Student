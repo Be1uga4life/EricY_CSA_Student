{
 "cells": [
  {
   "cell_type": "raw",
   "metadata": {
    "vscode": {
     "languageId": "raw"
    }
   },
   "source": [
    "---\n",
    "layout: post\n",
    "title: Unit 6 Notes\n",
    "description: A summary of everything we did \n",
    "type: collab\n",
    "toc: true\n",
    "permalink: notes/Unit6/\n",
    "menu: nav/CSA_Units/csa_notes.html\n",
    "comments: true\n",
    "author: Eric Yu\n",
    "---"
   ]
  },
  {
   "cell_type": "markdown",
   "metadata": {
    "vscode": {
     "languageId": "java"
    }
   },
   "source": [
    "# Unit 6 Arrays"
   ]
  },
  {
   "cell_type": "markdown",
   "metadata": {},
   "source": [
    "### Key Terms\n",
    "\n",
    "- **Array**: A data structure that holds a group of object references.\n",
    "- **Element**: A single item stored inside an array.\n",
    "- **Element Index**: The location of an element in the array (starts at index 0).\n",
    "- **Array Length**: Number of elements in the array.\n"
   ]
  },
  {
   "cell_type": "markdown",
   "metadata": {},
   "source": [
    "### Enchanced For Loop\n",
    "\n",
    "The enhanced for loop, also known as the \"for-each\" loop, is a simplified way to iterate over elements in array. However you cannot modify the elements in the array"
   ]
  },
  {
   "cell_type": "code",
   "execution_count": 1,
   "metadata": {
    "vscode": {
     "languageId": "java"
    }
   },
   "outputs": [
    {
     "name": "stdout",
     "output_type": "stream",
     "text": [
      "Number: 10\n",
      "Number: 20\n",
      "Number: 30\n",
      "Number: 40\n",
      "Number: 50\n"
     ]
    }
   ],
   "source": [
    "public class EnhancedForLoopExample {\n",
    "    public static void main(String[] args) {\n",
    "        // Declare and initialize an array of integers\n",
    "        int[] numbers = {10, 20, 30, 40, 50};\n",
    "\n",
    "        // Using enhanced for loop to iterate through the array\n",
    "        for (int number : numbers) {\n",
    "            System.out.println(\"Number: \" + number);\n",
    "        }\n",
    "    }\n",
    "}\n",
    "\n",
    "EnhancedForLoopExample.main(null)"
   ]
  },
  {
   "cell_type": "markdown",
   "metadata": {},
   "source": [
    "___"
   ]
  }
 ],
 "metadata": {
  "kernelspec": {
   "display_name": "Java",
   "language": "java",
   "name": "java"
  },
  "language_info": {
   "codemirror_mode": "java",
   "file_extension": ".jshell",
   "mimetype": "text/x-java-source",
   "name": "Java",
   "pygments_lexer": "java",
   "version": "11.0.24+8-post-Ubuntu-1ubuntu322.04"
  }
 },
 "nbformat": 4,
 "nbformat_minor": 2
}
