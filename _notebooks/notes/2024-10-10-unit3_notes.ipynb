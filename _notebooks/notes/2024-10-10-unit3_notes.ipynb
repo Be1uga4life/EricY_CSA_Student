{
 "cells": [
  {
   "cell_type": "raw",
   "metadata": {
    "vscode": {
     "languageId": "raw"
    }
   },
   "source": [
    "---\n",
    "layout: post\n",
    "title: Unit 3 Notes\n",
    "description: A summary of everything we did \n",
    "type: collab\n",
    "toc: true\n",
    "permalink: notes/Unit3/\n",
    "menu: nav/CSA_Units/csa_notes.html\n",
    "comments: true\n",
    "author: Eric Yu\n",
    "---"
   ]
  },
  {
   "cell_type": "markdown",
   "metadata": {
    "vscode": {
     "languageId": "java"
    }
   },
   "source": [
    "# Unit 3 "
   ]
  },
  {
   "cell_type": "markdown",
   "metadata": {},
   "source": [
    "### Boolean Expressions\n",
    "\n",
    "- **Equal to:** `==`\n",
    "- **Not equal to:** `!=`\n",
    "- **Less than:** `<`\n",
    "- **Greater than:** `>`\n",
    "- **Less than or equal to:** `<=`\n",
    "- **Greater than or equal to:** `>=`\n"
   ]
  },
  {
   "cell_type": "markdown",
   "metadata": {},
   "source": [
    "### If conditionals in Java\n"
   ]
  },
  {
   "cell_type": "code",
   "execution_count": null,
   "metadata": {
    "vscode": {
     "languageId": "java"
    }
   },
   "outputs": [],
   "source": [
    "if (condition) {\n",
    "    // Code to execute if condition is true\n",
    "} else if (anotherCondition) {\n",
    "    // Code to execute if anotherCondition is true\n",
    "} else {\n",
    "    // Code to execute if none of the above conditions are true\n",
    "}"
   ]
  },
  {
   "cell_type": "code",
   "execution_count": null,
   "metadata": {
    "vscode": {
     "languageId": "java"
    }
   },
   "outputs": [],
   "source": [
    "// AND (both conditions must be true)\n",
    "if (condition1 && condition2) {\n",
    "    // Code executes if both condition1 and condition2 are true\n",
    "}\n",
    "\n",
    "// OR (either condition must be true)\n",
    "if (condition1 || condition2) {\n",
    "    // Code executes if either condition1 or condition2 is true\n",
    "}\n",
    "\n",
    "// NOT (negates the condition)\n",
    "if (!condition) {\n",
    "    // Code executes if condition is false\n",
    "}\n",
    "\n",
    "// Example with compound expression\n",
    "if ((age > 18 && hasLicense) || isExperiencedDriver) {\n",
    "    // Code executes if both age > 18 and hasLicense are true, \n",
    "    // OR if isExperiencedDriver is true\n",
    "}"
   ]
  },
  {
   "cell_type": "markdown",
   "metadata": {},
   "source": [
    "### Compound Boolean Operators\n",
    "\n",
    "- **`&&` (AND):**  \n",
    "  Returns true only if both conditions are true.  \n",
    "  **Example:** `(condition1 && condition2)` is true if both `condition1` and `condition2` are true.\n",
    "\n",
    "- **`||` (OR):**  \n",
    "  Returns true if at least one of the conditions is true.  \n",
    "  **Example:** `(condition1 || condition2)` is true if either `condition1` or `condition2` (or both) are true.\n",
    "\n",
    "- **`!` (NOT):**  \n",
    "  Negates the value of a condition; returns true if the condition is false, and vice versa.  \n",
    "  **Example:** `!(condition)` is true if `condition` is false.\n"
   ]
  },
  {
   "cell_type": "markdown",
   "metadata": {},
   "source": [
    "- **Short-Circuited Evaluation:**\n",
    "  - In expressions with `&&` or `||`, evaluation stops once the result is determined by the first operand.\n",
    "\n",
    "- **Comparing Objects in Java:**\n",
    "  - `==` Operator: Compares if two references point to the same memory location.\n",
    "  - `equals()` Method: Compares the actual content (values) of objects, not their references.\n",
    "\n",
    "- **Short-Circuit Example (JavaScript):**\n",
    "  - `&&`: Evaluates the first condition (`isEven`). If false, the second condition (`isPositive`) is skipped.\n",
    "\n",
    "- **Popcorn Hack - Comparing Objects:**\n",
    "  - Override the `equals()` method in custom classes to compare objects by their values, not references.\n"
   ]
  }
 ],
 "metadata": {
  "kernelspec": {
   "display_name": "Java",
   "language": "java",
   "name": "java"
  },
  "language_info": {
   "codemirror_mode": "java",
   "file_extension": ".jshell",
   "mimetype": "text/x-java-source",
   "name": "Java",
   "pygments_lexer": "java",
   "version": "11.0.24+8-post-Ubuntu-1ubuntu322.04"
  }
 },
 "nbformat": 4,
 "nbformat_minor": 2
}
