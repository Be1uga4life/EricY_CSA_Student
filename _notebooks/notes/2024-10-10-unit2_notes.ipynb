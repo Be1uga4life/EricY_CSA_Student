{
 "cells": [
  {
   "cell_type": "raw",
   "metadata": {
    "vscode": {
     "languageId": "raw"
    }
   },
   "source": [
    "---\n",
    "layout: post\n",
    "title: Unit 2 Notes\n",
    "description: A summary of everything we did \n",
    "type: collab\n",
    "toc: true\n",
    "permalink: notes/Unit2/\n",
    "menu: nav/CSA_Units/csa_notes.html\n",
    "comments: true\n",
    "author: Eric Yu\n",
    "---"
   ]
  },
  {
   "cell_type": "markdown",
   "metadata": {
    "vscode": {
     "languageId": "java"
    }
   },
   "source": [
    "# Unit 2 Using Objects"
   ]
  },
  {
   "cell_type": "markdown",
   "metadata": {},
   "source": [
    "### What is a Class?\n",
    "\n",
    "A class in programming is like a blueprint for creating objects. It defines the properties (attributes) and behaviors (methods) that objects of that class will have."
   ]
  },
  {
   "cell_type": "markdown",
   "metadata": {},
   "source": [
    "### What is a Non-Void Method?\n",
    "\n",
    "A non-void method is a method that returns a value when it is called. Unlike a void method, which performs an action but doesn’t return anything, a non-void method does something and sends back a result."
   ]
  },
  {
   "cell_type": "code",
   "execution_count": 8,
   "metadata": {
    "vscode": {
     "languageId": "java"
    }
   },
   "outputs": [
    {
     "name": "stdout",
     "output_type": "stream",
     "text": [
      "Hello, World!\n"
     ]
    }
   ],
   "source": [
    "// Void Method\n",
    "public void greet() {\n",
    "    System.out.println(\"Hello, World!\");\n",
    "}\n",
    "\n",
    "greet();"
   ]
  },
  {
   "cell_type": "code",
   "execution_count": 9,
   "metadata": {
    "vscode": {
     "languageId": "java"
    }
   },
   "outputs": [
    {
     "data": {
      "text/plain": [
       "5"
      ]
     },
     "execution_count": 9,
     "metadata": {},
     "output_type": "execute_result"
    }
   ],
   "source": [
    "// Nonvoid method\n",
    "\n",
    "public int addNumbers(int a, int b) {\n",
    "    return a + b;\n",
    "}\n",
    "\n",
    "addNumbers(2,3);"
   ]
  },
  {
   "cell_type": "markdown",
   "metadata": {},
   "source": [
    "___"
   ]
  },
  {
   "cell_type": "markdown",
   "metadata": {},
   "source": [
    "### What are Methods?\n",
    "\n",
    "In Java, methods are blocks of code that perform specific tasks and can be reused throughout your program. "
   ]
  },
  {
   "cell_type": "markdown",
   "metadata": {},
   "source": [
    "___"
   ]
  },
  {
   "cell_type": "markdown",
   "metadata": {},
   "source": [
    "### What is Concatentation\n",
    "\n",
    "Concatenation allows you to add strings together."
   ]
  },
  {
   "cell_type": "code",
   "execution_count": 11,
   "metadata": {
    "vscode": {
     "languageId": "java"
    }
   },
   "outputs": [
    {
     "name": "stdout",
     "output_type": "stream",
     "text": [
      "SkibidiSkibidi2\n"
     ]
    }
   ],
   "source": [
    "String name1 = \"Skibidi\";\n",
    "String name2 = \"Skibidi2\";\n",
    "\n",
    "name1 += name2; \n",
    "System.out.println(name1)"
   ]
  },
  {
   "cell_type": "markdown",
   "metadata": {},
   "source": [
    "___"
   ]
  },
  {
   "cell_type": "markdown",
   "metadata": {},
   "source": [
    "### Wrapper classes\n",
    "\n",
    "In Java, wrapper classes are used to convert primitive data types into objects."
   ]
  },
  {
   "cell_type": "markdown",
   "metadata": {},
   "source": [
    "___"
   ]
  },
  {
   "cell_type": "markdown",
   "metadata": {},
   "source": [
    "### Autoboxing\n",
    "\n",
    "Autoboxing is the automatic conversion that the Java compiler makes from a primitive type to its corresponding wrapper class. "
   ]
  },
  {
   "cell_type": "markdown",
   "metadata": {},
   "source": [
    "### Unboxing\n",
    "Unboxing is the reverse process where the Java compiler automatically converts a wrapper class back into its corresponding primitive type."
   ]
  },
  {
   "cell_type": "code",
   "execution_count": 12,
   "metadata": {
    "vscode": {
     "languageId": "java"
    }
   },
   "outputs": [
    {
     "name": "stdout",
     "output_type": "stream",
     "text": [
      "📦wrapped = 100\n",
      "unwrapped = 100\n"
     ]
    }
   ],
   "source": [
    "public class BoxDemo {\n",
    "    public static void demo(String[] args) {\n",
    "        Integer wrapped = 100;  // Autoboxing\n",
    "        int unwrapped = wrapped;  // Unboxing\n",
    "\n",
    "        System.out.println(\"📦wrapped = \" + wrapped);\n",
    "        System.out.println(\"unwrapped = \" + unwrapped);\n",
    "    }\n",
    "}\n",
    "\n",
    "BoxDemo.demo(new String[]{});"
   ]
  },
  {
   "cell_type": "markdown",
   "metadata": {},
   "source": [
    "___"
   ]
  },
  {
   "cell_type": "markdown",
   "metadata": {},
   "source": []
  },
  {
   "cell_type": "code",
   "execution_count": null,
   "metadata": {
    "vscode": {
     "languageId": "java"
    }
   },
   "outputs": [],
   "source": []
  }
 ],
 "metadata": {
  "kernelspec": {
   "display_name": "Java",
   "language": "java",
   "name": "java"
  },
  "language_info": {
   "codemirror_mode": "java",
   "file_extension": ".jshell",
   "mimetype": "text/x-java-source",
   "name": "Java",
   "pygments_lexer": "java",
   "version": "11.0.24+8-post-Ubuntu-1ubuntu322.04"
  }
 },
 "nbformat": 4,
 "nbformat_minor": 2
}
