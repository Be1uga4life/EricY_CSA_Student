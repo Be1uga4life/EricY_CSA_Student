{
 "cells": [
  {
   "cell_type": "raw",
   "metadata": {
    "vscode": {
     "languageId": "raw"
    }
   },
   "source": [
    "---\n",
    "layout: post\n",
    "title: Unit 7 Notes\n",
    "description: A summary of everything we did \n",
    "type: collab\n",
    "toc: true\n",
    "permalink: notes/Unit7/\n",
    "menu: nav/CSA_Units/csa_notes.html\n",
    "comments: true\n",
    "author: Eric Yu\n",
    "---"
   ]
  },
  {
   "cell_type": "markdown",
   "metadata": {
    "vscode": {
     "languageId": "java"
    }
   },
   "source": [
    "# Unit 7: Arraylists"
   ]
  },
  {
   "cell_type": "markdown",
   "metadata": {},
   "source": [
    "### What is an ArrayList\n",
    "Resizable array that allows dynamic size changes, unlike static arrays, which have a fixed size."
   ]
  },
  {
   "cell_type": "markdown",
   "metadata": {},
   "source": [
    "### Declaring ArrayLists\n",
    "\n",
    "Usually needs to declare a type aswell. (can be voided but not recommended)"
   ]
  },
  {
   "cell_type": "code",
   "execution_count": 1,
   "metadata": {
    "vscode": {
     "languageId": "java"
    }
   },
   "outputs": [
    {
     "name": "stdout",
     "output_type": "stream",
     "text": [
      "[]\n"
     ]
    }
   ],
   "source": [
    "ArrayList<String> wordList = new ArrayList<String>(); // with data type\n",
    "ArrayList blankList = new ArrayList(); // without data type\n",
    "System.out.println(wordList);"
   ]
  },
  {
   "cell_type": "markdown",
   "metadata": {},
   "source": [
    "#### variable.get(i):\n",
    "\n",
    "The get(int index) method retrieves the element at the specified index i in the ArrayList. This allows you to access specific elements without modifying the list."
   ]
  },
  {
   "cell_type": "code",
   "execution_count": 2,
   "metadata": {
    "vscode": {
     "languageId": "java"
    }
   },
   "outputs": [
    {
     "name": "stdout",
     "output_type": "stream",
     "text": [
      "Element at index 1: Banana\n"
     ]
    }
   ],
   "source": [
    "ArrayList<String> fruits = new ArrayList<>();\n",
    "fruits.add(\"Apple\");\n",
    "fruits.add(\"Banana\");\n",
    "fruits.add(\"Cherry\");\n",
    "\n",
    "// Retrieve the element at index 1\n",
    "String fruit = fruits.get(1);\n",
    "System.out.println(\"Element at index 1: \" + fruit); // Output: Banana\n"
   ]
  },
  {
   "cell_type": "markdown",
   "metadata": {},
   "source": [
    "#### variable.remove(i)\n",
    "\n",
    "The remove(int index) method removes the element at the specified index i from the ArrayList. After removal, the subsequent elements are shifted to the left, and the size of the list is decreased by one."
   ]
  },
  {
   "cell_type": "code",
   "execution_count": 3,
   "metadata": {
    "vscode": {
     "languageId": "java"
    }
   },
   "outputs": [
    {
     "name": "stdout",
     "output_type": "stream",
     "text": [
      "After removal: [Apple, Cherry]\n"
     ]
    }
   ],
   "source": [
    "ArrayList<String> fruits = new ArrayList<>();\n",
    "fruits.add(\"Apple\");\n",
    "fruits.add(\"Banana\");\n",
    "fruits.add(\"Cherry\");\n",
    "\n",
    "// Remove the element at index 1\n",
    "fruits.remove(1);\n",
    "System.out.println(\"After removal: \" + fruits); // Output: [Apple, Cherry]\n"
   ]
  },
  {
   "cell_type": "markdown",
   "metadata": {},
   "source": [
    "#### variable.size()\n",
    "\n",
    "The size() method returns the current number of elements in the ArrayList. This helps in determining how many items are present, which can be useful for iteration and checks."
   ]
  },
  {
   "cell_type": "code",
   "execution_count": 4,
   "metadata": {
    "vscode": {
     "languageId": "java"
    }
   },
   "outputs": [
    {
     "name": "stdout",
     "output_type": "stream",
     "text": [
      "After removal: [Apple, Cherry]\n"
     ]
    }
   ],
   "source": [
    "ArrayList<String> fruits = new ArrayList<>();\n",
    "fruits.add(\"Apple\");\n",
    "fruits.add(\"Banana\");\n",
    "fruits.add(\"Cherry\");\n",
    "\n",
    "// Remove the element at index 1\n",
    "fruits.remove(1);\n",
    "System.out.println(\"After removal: \" + fruits); // Output: [Apple, Cherry]\n"
   ]
  },
  {
   "cell_type": "markdown",
   "metadata": {},
   "source": [
    "#### swapConsecutive(ArrayList myList)\n",
    "\n",
    "The swapConsecutive(ArrayList myList) function swaps every pair of consecutive elements in the provided ArrayList. This function is useful for reordering elements based on specific criteria."
   ]
  },
  {
   "cell_type": "code",
   "execution_count": 5,
   "metadata": {
    "vscode": {
     "languageId": "java"
    }
   },
   "outputs": [],
   "source": [
    "import java.util.ArrayList;\n",
    "\n",
    "public class ArrayListManipulation {\n",
    "    public static void swapConsecutive(ArrayList<Integer> myList) {\n",
    "        for (int i = 0; i < myList.size() - 1; i += 2) {\n",
    "            // Swap elements at indices i and i + 1\n",
    "            int temp = myList.get(i);\n",
    "            myList.set(i, myList.get(i + 1));\n",
    "            myList.set(i + 1, temp);\n",
    "        }\n",
    "    }\n",
    "\n",
    "    public static void main(String[] args) {\n",
    "        ArrayList<Integer> numbers = new ArrayList<>();\n",
    "        numbers.add(1);\n",
    "        numbers.add(2);\n",
    "        numbers.add(3);\n",
    "        numbers.add(4);\n",
    "        numbers.add(5);\n",
    "\n",
    "        System.out.println(\"Original List: \" + numbers);\n",
    "        swapConsecutive(numbers);\n",
    "        System.out.println(\"List after swapping: \" + numbers); // Output: [2, 1, 4, 3, 5]\n",
    "    }\n",
    "}\n"
   ]
  },
  {
   "cell_type": "markdown",
   "metadata": {},
   "source": [
    "___"
   ]
  },
  {
   "cell_type": "markdown",
   "metadata": {},
   "source": [
    "### Linear Search\n",
    "\n",
    "Linear search is a straightforward search algorithm that checks each element in the list sequentially until the desired element is found or the end of the list is reached. It works with both sorted and unsorted arrays."
   ]
  },
  {
   "cell_type": "code",
   "execution_count": 7,
   "metadata": {
    "vscode": {
     "languageId": "java"
    }
   },
   "outputs": [
    {
     "name": "stdout",
     "output_type": "stream",
     "text": [
      "Element found at index: 3\n"
     ]
    }
   ],
   "source": [
    "public class SearchAlgorithms {\n",
    "    public static int linearSearch(int[] arr, int target) {\n",
    "        for (int i = 0; i < arr.length; i++) {\n",
    "            if (arr[i] == target) {\n",
    "                return i; // Return the index if the element is found\n",
    "            }\n",
    "        }\n",
    "        return -1; // Return -1 if the element is not found\n",
    "    }\n",
    "\n",
    "    public static void main(String[] args) {\n",
    "        int[] numbers = {5, 3, 8, 4, 2};\n",
    "        int target = 4;\n",
    "        int result = linearSearch(numbers, target);\n",
    "\n",
    "        if (result != -1) {\n",
    "            System.out.println(\"Element found at index: \" + result); // Output: Element found at index: 3\n",
    "        } else {\n",
    "            System.out.println(\"Element not found.\");\n",
    "        }\n",
    "    }\n",
    "}\n",
    "\n",
    "SearchAlgorithms.main(null)\n"
   ]
  },
  {
   "cell_type": "markdown",
   "metadata": {},
   "source": [
    "### Binary Search\n",
    "\n",
    "Binary search is a more efficient algorithm for finding an element in a sorted array. It works by repeatedly dividing the search interval in half. If the value of the target element is less than the item in the middle of the interval, it narrows the interval to the lower half. Otherwise, it narrows it to the upper half. This process continues until the target is found or the interval is empty."
   ]
  },
  {
   "cell_type": "code",
   "execution_count": 8,
   "metadata": {
    "vscode": {
     "languageId": "java"
    }
   },
   "outputs": [
    {
     "name": "stdout",
     "output_type": "stream",
     "text": [
      "Element found at index: 5\n"
     ]
    }
   ],
   "source": [
    "public class SearchAlgorithms {\n",
    "    public static int binarySearch(int[] arr, int target) {\n",
    "        int left = 0;\n",
    "        int right = arr.length - 1;\n",
    "\n",
    "        while (left <= right) {\n",
    "            int mid = left + (right - left) / 2;\n",
    "\n",
    "            if (arr[mid] == target) {\n",
    "                return mid; // Return the index if the element is found\n",
    "            }\n",
    "            if (arr[mid] < target) {\n",
    "                left = mid + 1; // Narrow down to the upper half\n",
    "            } else {\n",
    "                right = mid - 1; // Narrow down to the lower half\n",
    "            }\n",
    "        }\n",
    "        return -1; // Return -1 if the element is not found\n",
    "    }\n",
    "\n",
    "    public static void main(String[] args) {\n",
    "        int[] numbers = {1, 2, 3, 4, 5, 6, 7, 8, 9}; // Must be sorted\n",
    "        int target = 6;\n",
    "        int result = binarySearch(numbers, target);\n",
    "\n",
    "        if (result != -1) {\n",
    "            System.out.println(\"Element found at index: \" + result); // Output: Element found at index: 5\n",
    "        } else {\n",
    "            System.out.println(\"Element not found.\");\n",
    "        }\n",
    "    }\n",
    "}\n",
    "\n",
    "SearchAlgorithms.main(null)"
   ]
  },
  {
   "cell_type": "code",
   "execution_count": null,
   "metadata": {
    "vscode": {
     "languageId": "java"
    }
   },
   "outputs": [],
   "source": []
  },
  {
   "cell_type": "code",
   "execution_count": null,
   "metadata": {
    "vscode": {
     "languageId": "java"
    }
   },
   "outputs": [],
   "source": []
  }
 ],
 "metadata": {
  "kernelspec": {
   "display_name": "Java",
   "language": "java",
   "name": "java"
  },
  "language_info": {
   "codemirror_mode": "java",
   "file_extension": ".jshell",
   "mimetype": "text/x-java-source",
   "name": "Java",
   "pygments_lexer": "java",
   "version": "11.0.24+8-post-Ubuntu-1ubuntu322.04"
  }
 },
 "nbformat": 4,
 "nbformat_minor": 2
}
