{
 "cells": [
  {
   "cell_type": "raw",
   "metadata": {
    "vscode": {
     "languageId": "raw"
    }
   },
   "source": [
    "---\n",
    "layout: post\n",
    "title: Unit 1 Notes\n",
    "description: A summary of everything we did \n",
    "type: collab\n",
    "toc: true\n",
    "permalink: notes/Unit1/\n",
    "menu: nav/CSA_Units/csa_notes.html\n",
    "comments: true\n",
    "author: Eric Yu\n",
    "---"
   ]
  },
  {
   "cell_type": "markdown",
   "metadata": {
    "vscode": {
     "languageId": "java"
    }
   },
   "source": [
    "# Unit 1 Primitave and Reference Types: "
   ]
  },
  {
   "cell_type": "markdown",
   "metadata": {},
   "source": [
    "### What is a Primitave Type?\n",
    "\n",
    "![sdf](https://miro.medium.com/v2/resize:fit:634/1*Uw_8QIpL7QcNpQLBz59vUw.png)\n",
    "\n",
    "Primitave Types are the most basic data types that represent simple value (str, int, etc.)\n",
    "\n"
   ]
  },
  {
   "cell_type": "markdown",
   "metadata": {},
   "source": [
    "### The 8 Primitive Data Types\n",
    "\n",
    "1. **byte**:  \n",
    "   An 8-bit signed two’s complement integer.\n",
    "\n",
    "2. **short**:  \n",
    "   A 16-bit signed two’s complement integer.\n",
    "\n",
    "3. **int**:  \n",
    "   A 32-bit signed two’s complement integer.\n",
    "\n",
    "4. **long**:  \n",
    "   A 64-bit signed two’s complement integer.\n",
    "\n",
    "5. **float**:  \n",
    "   A single-precision 32-bit IEEE 754 floating point.\n",
    "\n",
    "6. **double**:  \n",
    "   A double-precision 64-bit IEEE 754 floating point.\n",
    "\n",
    "7. **boolean**:  \n",
    "   Stores either `true` or `false`.\n",
    "\n",
    "8. **char**:  \n",
    "   Stores a single 16-bit Unicode character.\n"
   ]
  },
  {
   "cell_type": "markdown",
   "metadata": {},
   "source": [
    "### What is a Reference Type?\n",
    "\n",
    "A Reference Type in programming refers to data types where variables store references (or memory addresses) rather than the actual data."
   ]
  },
  {
   "cell_type": "code",
   "execution_count": 3,
   "metadata": {
    "vscode": {
     "languageId": "java"
    }
   },
   "outputs": [
    {
     "name": "stdout",
     "output_type": "stream",
     "text": [
      "skibidi\n",
      "sigma\n"
     ]
    }
   ],
   "source": [
    "String a = \"skibidi\";\n",
    "String b = a;\n",
    "b = \"sigma\";\n",
    "\n",
    "// a still points to \"skibidi\", but b now points to \"sigma\"\n",
    "\n",
    "System.out.println(a);\n",
    "System.out.println(b);\n"
   ]
  }
 ],
 "metadata": {
  "kernelspec": {
   "display_name": "Java",
   "language": "java",
   "name": "java"
  },
  "language_info": {
   "codemirror_mode": "java",
   "file_extension": ".jshell",
   "mimetype": "text/x-java-source",
   "name": "Java",
   "pygments_lexer": "java",
   "version": "11.0.24+8-post-Ubuntu-1ubuntu322.04"
  }
 },
 "nbformat": 4,
 "nbformat_minor": 2
}
