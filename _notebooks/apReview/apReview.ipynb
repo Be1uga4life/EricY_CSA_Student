{
 "cells": [
  {
   "cell_type": "markdown",
   "metadata": {},
   "source": [
    "#### Popcorn Hack #1, What's wrong with the code below"
   ]
  },
  {
   "cell_type": "code",
   "execution_count": 11,
   "metadata": {},
   "outputs": [],
   "source": [
    "String[][] grades = {\n",
    "    {\"Hello\", \"World\"},\n",
    "    {\"Java\", \"Array\"}\n",
    "};\n",
    "\n",
    "// The code above are defined with Strings, not integers, thus \"String\" would be used instead of \"int\""
   ]
  },
  {
   "cell_type": "markdown",
   "metadata": {},
   "source": [
    "#### Popcorn Hack #2, How many total elements can this 2D array hold, and how would you calculate it?"
   ]
  },
  {
   "cell_type": "code",
   "execution_count": 18,
   "metadata": {},
   "outputs": [
    {
     "name": "stdout",
     "output_type": "stream",
     "text": [
      "[[0, 0, 0], [0, 0, 0]]\n"
     ]
    }
   ],
   "source": [
    "\n",
    "// There are two rows and columns, therefore there are 6 elements since 2 times 3 is 6.\n",
    "int[][] matrix = new int[2][3];\n",
    "System.out.println(Arrays.deepToString(matrix));"
   ]
  },
  {
   "cell_type": "markdown",
   "metadata": {},
   "source": [
    "### Popcorn Hack #3, MCQ Question\n",
    "\n",
    "How would you write the code to access the last score? MC\n",
    "\n",
    "![something](https://github.com/user-attachments/assets/4bae6ef7-dee0-4b6f-ba92-bd05af8fa84d)\n",
    "\n",
    "A. grades[6][3]\n",
    "\n",
    "B. grades[7][4]\n",
    "\n",
    "C. grades[grades.length - 1] [grades[0].length - 1]\n",
    "\n",
    "D. A and C\n",
    "\n",
    "\n",
    "The ansewr is be D\n"
   ]
  },
  {
   "cell_type": "markdown",
   "metadata": {},
   "source": [
    "Try it on your own, declare + initlialize the 2D array."
   ]
  },
  {
   "cell_type": "code",
   "execution_count": null,
   "metadata": {},
   "outputs": [],
   "source": [
    "public class ArrayPractice {\n",
    "    public static void main(String[] args) {\n",
    "        // Write the code to declare and initialize the 2D array here\n",
    "        \n",
    "\n",
    "        // Print the array\n",
    "        System.out.println(java.util.Arrays.deepToString(array));\n",
    "    }\n",
    "}\n",
    "\n",
    "ArrayPractice.main(null)"
   ]
  },
  {
   "cell_type": "markdown",
   "metadata": {},
   "source": [
    "Try it on your own. Change from Java to Programming"
   ]
  },
  {
   "cell_type": "code",
   "execution_count": 20,
   "metadata": {},
   "outputs": [
    {
     "name": "stdout",
     "output_type": "stream",
     "text": [
      "[[Hello, World], [Programming, Array]]\n"
     ]
    }
   ],
   "source": [
    "String[][] hack = {\n",
    "    {\"Hello\", \"World\"},\n",
    "    {\"Java\", \"Array\"}\n",
    "};\n",
    "\n",
    "hack[1][0] = \"Programming\";\n",
    "System.out.println(Arrays.deepToString((hack)));"
   ]
  },
  {
   "cell_type": "markdown",
   "metadata": {},
   "source": [
    "Popcorn Hack, Change Australia to Athens:\n",
    "\n",
    "![something](https://github.com/user-attachments/assets/72f2ff0f-7d8b-4d5b-90e4-da9403a5570b)\n",
    "\n",
    "Answer: B\n"
   ]
  },
  {
   "cell_type": "markdown",
   "metadata": {},
   "source": [
    "___\n",
    "\n",
    "Lesson 8.2\n",
    "\n",
    "___"
   ]
  },
  {
   "cell_type": "markdown",
   "metadata": {},
   "source": [
    "Popcorn Hack #1, find the specific number and return specific index"
   ]
  },
  {
   "cell_type": "code",
   "execution_count": 21,
   "metadata": {},
   "outputs": [
    {
     "name": "stdout",
     "output_type": "stream",
     "text": [
      "Number: 55\n",
      "Row: 1\n",
      "Column: 1\n"
     ]
    }
   ],
   "source": [
    "public class Main {\n",
    "    public static void main(String[] args) {\n",
    "        int find[][] = {\n",
    "            {10, 20, 30},\n",
    "            {40, 55, 60},\n",
    "            {70, 80, 90},\n",
    "        };\n",
    "\n",
    "        for (int row = 0; row < find.length; row++) {\n",
    "            for (int col = 0; col < find[row].length; col++) {\n",
    "                if (find[row][col] == 55) {\n",
    "                    System.out.println(\"Number: \" + find[row][col]);\n",
    "                    System.out.println(\"Row: \" + row);\n",
    "                    System.out.println(\"Column: \" + col);\n",
    "                    return;  // Exit after finding the number\n",
    "                }\n",
    "            }\n",
    "        }\n",
    "    }\n",
    "}\n",
    "\n",
    "Main.main(null);\n"
   ]
  },
  {
   "cell_type": "markdown",
   "metadata": {},
   "source": [
    "Binary Search/Linear Search Popcorn Hack"
   ]
  },
  {
   "cell_type": "code",
   "execution_count": 22,
   "metadata": {},
   "outputs": [
    {
     "name": "stdout",
     "output_type": "stream",
     "text": [
      "Linear Search:\n",
      "Found 36 at row 2, column 1\n",
      "Binary Search:\n",
      "Found 36 at row 2, column 1\n"
     ]
    }
   ],
   "source": [
    "public class Main {\n",
    "    public static void main(String[] args) {\n",
    "        // Custom 2D array with sorted rows\n",
    "        int[][] array = {\n",
    "            {1, 5, 9, 14},\n",
    "            {18, 22, 25, 30},\n",
    "            {32, 36, 40, 45},\n",
    "            {50, 55, 60, 65}\n",
    "        };\n",
    "        \n",
    "        int target = 36;\n",
    "\n",
    "        // Linear Search\n",
    "        System.out.println(\"Linear Search:\");\n",
    "        linearSearch(array, target);\n",
    "        \n",
    "        // Binary Search\n",
    "        System.out.println(\"Binary Search:\");\n",
    "        binarySearch2D(array, target);\n",
    "    }\n",
    "\n",
    "    // Linear Search implementation\n",
    "    public static void linearSearch(int[][] array, int target) {\n",
    "        for (int row = 0; row < array.length; row++) {\n",
    "            for (int col = 0; col < array[row].length; col++) {\n",
    "                if (array[row][col] == target) {\n",
    "                    System.out.println(\"Found \" + target + \" at row \" + row + \", column \" + col);\n",
    "                    return;  // Exit after finding the number\n",
    "                }\n",
    "            }\n",
    "        }\n",
    "        System.out.println(target + \" not found in the array.\");\n",
    "    }\n",
    "\n",
    "    // Binary Search implementation for 2D array\n",
    "    public static void binarySearch2D(int[][] array, int target) {\n",
    "        for (int row = 0; row < array.length; row++) {\n",
    "            int left = 0;\n",
    "            int right = array[row].length - 1;\n",
    "            \n",
    "            while (left <= right) {\n",
    "                int mid = left + (right - left) / 2;\n",
    "                \n",
    "                if (array[row][mid] == target) {\n",
    "                    System.out.println(\"Found \" + target + \" at row \" + row + \", column \" + mid);\n",
    "                    return;  \n",
    "                } else if (array[row][mid] < target) {\n",
    "                    left = mid + 1;  // Search right half\n",
    "                } else {\n",
    "                    right = mid - 1;  // Search left half\n",
    "                }\n",
    "            }\n",
    "        }\n",
    "        System.out.println(target + \" not found in the array.\");\n",
    "    }\n",
    "}\n",
    "\n",
    "Main.main(null);\n"
   ]
  },
  {
   "cell_type": "markdown",
   "metadata": {},
   "source": [
    "Popcorn Hack, Write a code that performs global sorting on the 2D array"
   ]
  },
  {
   "cell_type": "code",
   "execution_count": 25,
   "metadata": {},
   "outputs": [
    {
     "name": "stdout",
     "output_type": "stream",
     "text": [
      "Element found at: Row 1, Column 0\n"
     ]
    }
   ],
   "source": [
    "public class PopcornHack {\n",
    "    public static void main(String[] args) {\n",
    "        int[][] array = {\n",
    "            {9, 2, 5},\n",
    "            {7, 4, 3},\n",
    "            {6, 8, 1}\n",
    "        };\n",
    "\n",
    "        array = globalSort(array);\n",
    "\n",
    "        int target = 4;\n",
    "\n",
    "        int[] result = linearSearch(array, target);\n",
    "        // Uncomment the below line to use binary search\n",
    "        // int[] result = binarySearch(array, target);\n",
    "\n",
    "        // Step 5: Output the result\n",
    "        if (result[0] != -1) {\n",
    "            System.out.println(\"Element found at: Row \" + result[0] + \", Column \" + result[1]);\n",
    "        } else {\n",
    "            System.out.println(\"Element not found.\");\n",
    "        }\n",
    "    }\n",
    "\n",
    "    // Global sorting method\n",
    "    public static int[][] globalSort(int[][] array) {\n",
    "        int rows = array.length;\n",
    "        int cols = array[0].length;\n",
    "        int[] temp = new int[rows * cols];\n",
    "        \n",
    "        // Flatten the 2D array into 1D array\n",
    "        int index = 0;\n",
    "        for (int[] row : array) {\n",
    "            for (int value : row) {\n",
    "                temp[index++] = value;\n",
    "            }\n",
    "        }\n",
    "    \n",
    "        java.util.Arrays.sort(temp);\n",
    "        \n",
    "        index = 0;\n",
    "        for (int i = 0; i < rows; i++) {\n",
    "            for (int j = 0; j < cols; j++) {\n",
    "                array[i][j] = temp[index++];\n",
    "            }\n",
    "        }\n",
    "        return array;\n",
    "    }\n",
    "\n",
    "    public static int[] linearSearch(int[][] array, int target) {\n",
    "        for (int i = 0; i < array.length; i++) {\n",
    "            for (int j = 0; j < array[i].length; j++) {\n",
    "                if (array[i][j] == target) {\n",
    "                    return new int[] {i, j};\n",
    "                }\n",
    "            }\n",
    "        }\n",
    "        return new int[] {-1, -1};\n",
    "    }\n",
    "\n",
    "    public static int[] binarySearch(int[][] array, int target) {\n",
    "        int rows = array.length;\n",
    "        int cols = array[0].length;\n",
    "        int low = 0;\n",
    "        int high = rows * cols - 1;\n",
    "        \n",
    "        while (low <= high) {\n",
    "            int mid = (low + high) / 2;\n",
    "            int midValue = array[mid / cols][mid % cols];\n",
    "            \n",
    "            if (midValue == target) {\n",
    "                return new int[] {mid / cols, mid % cols};\n",
    "            } else if (midValue < target) {\n",
    "                low = mid + 1;\n",
    "            } else {\n",
    "                high = mid - 1;\n",
    "            }\n",
    "        }\n",
    "        return new int[] {-1, -1};\n",
    "    }\n",
    "}\n",
    "\n",
    "PopcornHack.main(null)\n"
   ]
  },
  {
   "cell_type": "markdown",
   "metadata": {},
   "source": [
    "___\n",
    "Homework Hacks\n",
    "___"
   ]
  },
  {
   "cell_type": "markdown",
   "metadata": {},
   "source": [
    "### HW Hack for 8.1:"
   ]
  },
  {
   "cell_type": "code",
   "execution_count": 26,
   "metadata": {},
   "outputs": [
    {
     "name": "stdout",
     "output_type": "stream",
     "text": [
      "My AP CS A Class Rocks! "
     ]
    }
   ],
   "source": [
    "public class Main {\n",
    "    public static void main(String[] args) {\n",
    "        String[][] array = {{\"My\", \"A\"}, {\"AP\", \"Class\"}, {\"CS\", \"Rocks!\"}};\n",
    "        \n",
    "        for (int col = 0; col < array[0].length; col++) {\n",
    "            for (int row = 0; row < array.length; row++) {\n",
    "                System.out.print(array[row][col] + \" \");\n",
    "            }\n",
    "        }\n",
    "    }\n",
    "}\n",
    "\n",
    "Main.main(null);"
   ]
  },
  {
   "cell_type": "markdown",
   "metadata": {},
   "source": [
    "#### The correct option is B:\n",
    "\n",
    "There are three rows, and two columns. If following the rows from left to right, and from top to bottom, it matches up with the code."
   ]
  },
  {
   "cell_type": "markdown",
   "metadata": {},
   "source": [
    "### HW Hack for 8.2:"
   ]
  },
  {
   "cell_type": "code",
   "execution_count": 28,
   "metadata": {},
   "outputs": [
    {
     "name": "stdout",
     "output_type": "stream",
     "text": [
      "John's grade: 93\n",
      "Charlie's grade: Student not found\n"
     ]
    }
   ],
   "source": [
    "public class GradeSearch {\n",
    "    public static String searchGrade(String[][] grades, String name) {\n",
    "        for (String[] student : grades) {\n",
    "            if (student[0].equals(name)) {\n",
    "                return student[1];\n",
    "            }\n",
    "        }\n",
    "        return \"Student not found\";\n",
    "    }\n",
    "\n",
    "    public static void main(String[] args) {\n",
    "        String[][] grades = {\n",
    "            {\"John\", \"93\"},\n",
    "            {\"Alice\", \"85\"},\n",
    "            {\"Bob\", \"78\"},\n",
    "            {\"Eve\", \"92\"}\n",
    "        };\n",
    "\n",
    "        String nameToSearch = \"John\";\n",
    "        String grade = searchGrade(grades, nameToSearch);\n",
    "        System.out.println(nameToSearch + \"'s grade: \" + grade);\n",
    "\n",
    "        nameToSearch = \"Charlie\";\n",
    "        grade = searchGrade(grades, nameToSearch);\n",
    "        System.out.println(nameToSearch + \"'s grade: \" + grade);\n",
    "    }\n",
    "}\n",
    "\n",
    "GradeSearch.main(null);\n"
   ]
  }
 ],
 "metadata": {
  "kernelspec": {
   "display_name": "Java",
   "language": "java",
   "name": "java"
  },
  "language_info": {
   "codemirror_mode": "java",
   "file_extension": ".jshell",
   "mimetype": "text/x-java-source",
   "name": "java",
   "pygments_lexer": "java",
   "version": "11.0.24+8-post-Ubuntu-1ubuntu322.04"
  }
 },
 "nbformat": 4,
 "nbformat_minor": 2
}
