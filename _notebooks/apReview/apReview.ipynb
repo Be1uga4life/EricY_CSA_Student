{
 "cells": [
  {
   "cell_type": "code",
   "execution_count": null,
   "metadata": {},
   "outputs": [],
   "source": [
    "---\n",
    "layout: post\n",
    "title: AP Review\n",
    "description: Reviewing for AP\n",
    "type: collab\n",
    "toc: true\n",
    "permalink: /csa/unit2/period3/part3/\n",
    "menu: nav/CSA_Units/unit2/period3.html\n",
    "comments: true\n",
    "author: Eric Yu\n",
    "---"
   ]
  }
 ],
 "metadata": {
  "kernelspec": {
   "display_name": "Java",
   "language": "java",
   "name": "java"
  },
  "language_info": {
   "codemirror_mode": "java",
   "file_extension": ".jshell",
   "mimetype": "text/x-java-source",
   "name": "java",
   "pygments_lexer": "java",
   "version": "11.0.24+8-post-Ubuntu-1ubuntu322.04"
  }
 },
 "nbformat": 4,
 "nbformat_minor": 2
}
