{
 "cells": [
  {
   "cell_type": "raw",
   "metadata": {
    "vscode": {
     "languageId": "raw"
    }
   },
   "source": [
    "---\n",
    "layout: post\n",
    "title: Notes on Units 1-9\n",
    "description: Summary of all the units/Notes on all of the units\n",
    "type: collab\n",
    "toc: true\n",
    "permalink: notes/\n",
    "menu: nav/CSA_Units/csa_notes.html\n",
    "comments: true\n",
    "author: Eric Yu\n",
    "categories: [Collaboration]\n",
    "---"
   ]
  },
  {
   "cell_type": "markdown",
   "metadata": {},
   "source": [
    "Notes from what I learned in Java\n",
    "\n",
    "# Notes from What I Learned in Java\n",
    "\n",
    "## Resources for Learning Java\n",
    "\n",
    "### Official Documentation\n",
    "- [Java SE Documentation](https://docs.oracle.com/javase/8/docs/api/)  \n",
    "  Comprehensive API documentation for the Java Standard Edition.\n",
    "\n",
    "### Online Courses\n",
    "- [Coursera - Java Programming and Software Engineering Fundamentals](https://www.coursera.org/specializations/java-programming)  \n",
    "  A series of courses covering Java programming and software engineering principles.\n",
    "\n",
    "- [edX - Introduction to Java Programming](https://www.edx.org/course/introduction-to-java-programming)  \n",
    "  A self-paced course from Dartmouth on Java programming basics.\n",
    "\n",
    "\n",
    "### Tutorials\n",
    "- [W3Schools - Java Tutorial](https://www.w3schools.com/java/)  \n",
    "  A beginner-friendly tutorial that covers Java fundamentals and core concepts.\n",
    "\n",
    "- [Java Programming Tutorial - Tutorialspoint](https://www.tutorialspoint.com/java/index.htm)  \n",
    "  A comprehensive tutorial that covers Java programming from the basics to advanced topics.\n",
    "\n",
    "### Practice and Challenges\n",
    "- [LeetCode - Java Problems](https://leetcode.com/problemset/all/?filters=tag%3AJava)  \n",
    "  A platform for practicing coding problems, specifically in Java.\n",
    "\n",
    "- [HackerRank - Java Challenges](https://www.hackerrank.com/domains/tutorials/10-days-of-java)  \n",
    "  A series of challenges to improve Java skills through practical coding exercises."
   ]
  }
 ],
 "metadata": {
  "language_info": {
   "name": "python"
  }
 },
 "nbformat": 4,
 "nbformat_minor": 2
}
