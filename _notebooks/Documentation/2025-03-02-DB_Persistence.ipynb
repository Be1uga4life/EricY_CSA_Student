{
 "cells": [
  {
   "cell_type": "markdown",
   "metadata": {},
   "source": [
    "---\n",
    "layout: post\n",
    "title: DB Persistence Writeup\n",
    "description: DB Persistence Writeup\n",
    "type: collab\n",
    "toc: true\n",
    "permalink: documentation/db_persist\n",
    "comments: true\n",
    "author: Eric Yu\n",
    "categories: [Collaboration]\n",
    "---"
   ]
  },
  {
   "cell_type": "markdown",
   "metadata": {},
   "source": [
    "# 📌 Database Persistence in Spring Backend\n",
    "\n",
    "## 📝 Overview\n",
    "This document provides an in-depth look at the **database persistence** feature implemented in the Spring backend. It covers its **significance**, **key concepts**, **schema design**, and **important functions** that facilitate data storage and retrieval.\n",
    "\n",
    "---\n",
    "\n",
    "## 1. Significance of the Feature\n",
    "Database persistence is crucial for ensuring that application data is **stored reliably** and can be **retrieved when needed**. This feature:\n",
    "\n",
    "✅ Enables **long-term** data storage.  \n",
    "✅ Ensures **data integrity and consistency**.  \n",
    "✅ Supports **efficient querying** and data manipulation.  \n",
    "✅ Provides **scalability** and **maintainability** in a structured manner.  \n",
    "\n",
    "Imagine if our SQLite database on the AWS suddenly gets wiped, how can we prevent all the database's info from being wiped? This is where Database Persistence comes in. \n",
    "\n",
    "---\n",
    "\n",
    "## 2. Background Information\n",
    "\n",
    "### 📌 2.1 What is Database Persistence?\n",
    "Database persistence refers to the mechanism of **storing and managing data beyond the runtime** of an application. In a **Spring application**, persistence is typically handled using:\n",
    "\n",
    "- **JPA (Java Persistence API)** – Abstraction for ORM frameworks.  \n",
    "- **Hibernate** – Popular ORM framework for mapping Java objects to database tables.\n",
    "\n",
    "### 🏛 2.2 Understanding Database Schema\n",
    "A **database schema** defines the structure of the data, including **tables, relationships, and constraints**. In a Spring application, schemas are often defined using:\n",
    "\n",
    "- **JPA Annotations** (`@Entity`, `@Table`, etc.)  \n",
    "- **Database Migration Tools** (Liquibase/Flyway)  \n",
    "\n",
    "If you have worked with the backend, you are sure to have seen this before, schema is defined in blocks of code that look like this. Schema is important in my feature because the database is constantly changing, which includes its schema. In fact I have written an entire portion on schema on the flowchart you'll see below. \n"
   ]
  },
  {
   "cell_type": "code",
   "execution_count": null,
   "metadata": {
    "vscode": {
     "languageId": "java"
    }
   },
   "outputs": [],
   "source": [
    "@Entity\n",
    "@Table(name = \"users\")\n",
    "public class User {\n",
    "    @Id\n",
    "    @GeneratedValue(strategy = GenerationType.IDENTITY)\n",
    "    private Long id;\n",
    "\n",
    "    @Column(nullable = false, unique = true)\n",
    "    private String username;\n",
    "\n",
    "    @Column(nullable = false)\n",
    "    private String password;\n",
    "\n",
    "    @OneToMany(mappedBy = \"user\", cascade = CascadeType.ALL)\n",
    "    private List<Order> orders;\n",
    "    \n",
    "    // Getters and Setters\n",
    "}"
   ]
  },
  {
   "cell_type": "markdown",
   "metadata": {},
   "source": [
    "As you can see, columns, whether they are nullable or not, whether they need to be unique, are all considered **schema**.\n",
    "\n",
    "---\n",
    "\n",
    "## 3. Flowcharts of the process\n",
    "\n",
    "### 🛠 Importing process\n",
    "![Image](https://github.com/user-attachments/assets/d3056c0b-1f86-4a8d-ad2d-bc2df30e727d)\n",
    "\n",
    "### 🛠 Exporting process\n",
    "![Image](https://github.com/user-attachments/assets/64e68016-0719-4f2a-9eab-00e518b09bac)"
   ]
  }
 ],
 "metadata": {
  "kernelspec": {
   "display_name": "Java",
   "language": "java",
   "name": "java"
  },
  "language_info": {
   "codemirror_mode": "java",
   "file_extension": ".jshell",
   "mimetype": "text/x-java-source",
   "name": "Java",
   "pygments_lexer": "java",
   "version": "11.0.26+4-post-Ubuntu-1ubuntu122.04"
  }
 },
 "nbformat": 4,
 "nbformat_minor": 2
}
