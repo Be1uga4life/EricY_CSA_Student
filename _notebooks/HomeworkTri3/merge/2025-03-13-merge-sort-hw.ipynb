{
 "cells": [
  {
   "cell_type": "markdown",
   "metadata": {},
   "source": [
    "---\n",
    "layout: post\n",
    "title: Merge Sort Homework\n",
    "type: issues \n",
    "courses: { csa: {week: 8} }\n",
    "comments: true\n",
    "permalink: /csa/team_teach/merge_sort_hw\n",
    "---"
   ]
  },
  {
   "cell_type": "markdown",
   "metadata": {},
   "source": [
    "What is the time complexity of merge sort in the best, worst, and average cases? Explain why.\n",
    "The time complexities of merge sort in the best, worst, and average cases are all nlog(n). The merge sort algorithm will always divide the array into halves (which is the log(n) part) and will then always merge them back linearly (which results in the n part). The splitting actions and merging actions will always occur no matter how ordered the array is, thus the time complexity is the same for all cases.\n",
    "\n",
    "Compare merge sort with bubble sort and quicksort. When might merge sort be preferred?\n",
    "Merge sort has a stable time complexity of nlog(n) compared to bubble sort and quicksort.\n",
    "\n",
    "Bubble sort has an average time complexity of n^2, which makes sorting on average slower than Merge Sort.\n",
    "\n",
    "Quicksort has an average time complexity of nlog(n), but has a time complexity of n^2 as its worst case scenario, making it less reliable on time complexity.\n",
    "\n",
    "Why is merge sort considered a “divide and conquer” algorithm?\n",
    "Merge sort divides the array (the divide part), and then sorts each divided array. Essentially it splits up the work that it does which is why it's called the \"divide and conquered\" algorithm. \n",
    "\n",
    "Is merge sort stable? Why does this matter?\n",
    "Merge sort keeps equal elements in the same order they appeared in the input, therefore it is stable. If there are multiple keys in a database that need to be sorted, the key pairs need to remain paired or \"stable\". "
   ]
  },
  {
   "cell_type": "markdown",
   "metadata": {},
   "source": [
    "# Instructions\n",
    "Task:\n",
    "Write a function in Java that implements merge sort.\n",
    "\n",
    "Bonus task:\n",
    "Modify your merge sort function to count how many comparisons are made during sorting.\n",
    "\n"
   ]
  }
 ],
 "metadata": {
  "language_info": {
   "name": "python"
  }
 },
 "nbformat": 4,
 "nbformat_minor": 2
}
