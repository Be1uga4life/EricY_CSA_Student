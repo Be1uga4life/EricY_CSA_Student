{
 "cells": [
  {
   "cell_type": "raw",
   "metadata": {
    "vscode": {
     "languageId": "raw"
    }
   },
   "source": [
    "---\n",
    "title: Sorting/Searching Algorithms - Sorting Homework\n",
    "description: A homework on sorting algorithms for AP Computer Science students.\n",
    "categories: [Sorting/Searching Algorithms]\n",
    "menu: nav/teamteaching.html\n",
    "permalink: /sortingTT/sorting/hw/\n",
    "comments: true\n",
    "---"
   ]
  },
  {
   "cell_type": "markdown",
   "metadata": {},
   "source": [
    "# **Objective:**\n",
    "- Insertion Sort: Sort an array in ascending order using the Insertion Sort algorithm.\n",
    "- Selection Sort: Sort an array in ascending order using the Selection Sort algorithm."
   ]
  },
  {
   "cell_type": "code",
   "execution_count": 11,
   "metadata": {
    "vscode": {
     "languageId": "java"
    }
   },
   "outputs": [
    {
     "ename": "CompilationException",
     "evalue": "",
     "output_type": "error",
     "traceback": [
      "\u001b[1m\u001b[30m|   \u001b[1m\u001b[30m        arr[i] = arr[\u001b[0m\u001b[1m\u001b[30m\u001b[41mminIndex\u001b[0m\u001b[1m\u001b[30m];\u001b[0m",
      "\u001b[1m\u001b[31mvariable minIndex might not have been initialized\u001b[0m",
      "",
      "\u001b[1m\u001b[30m|   \u001b[1m\u001b[30m\u001b[0m\u001b[1m\u001b[30m\u001b[41mpublic static\u001b[0m\u001b[1m\u001b[30m void insertionSort(int[] arr) {\u001b[0m",
      "\u001b[1m\u001b[31mModifier 'static' not permitted in top-level declarations, ignored\u001b[0m",
      ""
     ]
    }
   ],
   "source": [
    "import java.util.Arrays;\n",
    "\n",
    "// Test Array\n",
    "int[] supplies = {29, 10, 14, 37, 13, 18, 25, 30, 4, 9, 12, 40, 50, 23, 28};\n",
    "\n",
    "// Insertion Sort\n",
    "public static void insertionSort(int[] arr) {\n",
    "    int currentMin;\n",
    "    String results;\n",
    "    int tempVar;\n",
    "    int minIndex;\n",
    "    \n",
    "    for (int i = 0; i < arr.length; i++) {\n",
    "        currentMin = arr[i];\n",
    "\n",
    "        for (int c = 0; c < (arr.length - i); c++) {\n",
    "            if (arr[c + i] < currentMin) {\n",
    "                currentMin = arr[c + i];\n",
    "                minIndex = c + i;\n",
    "            }\n",
    "        }\n",
    "\n",
    "        tempVar = arr[i];\n",
    "        arr[i] = arr[minIndex];\n",
    "        arr[minIndex] = tempVar;\n",
    "        \n",
    "        results = Arrays.toString(arr);\n",
    "\n",
    "        System.out.println(results);\n",
    "    }\n",
    "\n",
    "    results = Arrays.toString(arr);\n",
    "\n",
    "    System.out.println(\"Insertion Sort: \" + results);\n",
    "}\n",
    "\n",
    "// Selection Sort\n",
    "public static void selectionSort(int[] arr) {\n",
    "    // TODO: Implement Selection Sort\n",
    "    // Sort the array using selection sort algorithm\n",
    "    System.out.println(\"Selection Sort: \" + results);\n",
    "}\n",
    "\n",
    "insertionSort(supplies);\n",
    "// selectionSort(supplies);"
   ]
  }
 ],
 "metadata": {
  "kernelspec": {
   "display_name": "Java",
   "language": "java",
   "name": "java"
  },
  "language_info": {
   "codemirror_mode": "java",
   "file_extension": ".jshell",
   "mimetype": "text/x-java-source",
   "name": "Java",
   "pygments_lexer": "java",
   "version": "11.0.26+4-post-Ubuntu-1ubuntu122.04"
  }
 },
 "nbformat": 4,
 "nbformat_minor": 2
}
