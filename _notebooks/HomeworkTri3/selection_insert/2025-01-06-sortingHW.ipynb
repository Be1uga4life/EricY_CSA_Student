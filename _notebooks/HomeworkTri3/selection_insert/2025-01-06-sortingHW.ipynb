{
 "cells": [
  {
   "cell_type": "raw",
   "metadata": {
    "vscode": {
     "languageId": "raw"
    }
   },
   "source": [
    "---\n",
    "title: Sorting/Searching Algorithms - Sorting Homework\n",
    "description: A homework on sorting algorithms for AP Computer Science students.\n",
    "categories: [Sorting/Searching Algorithms]\n",
    "menu: nav/teamteaching.html\n",
    "permalink: /sortingTT/sorting/hw/\n",
    "comments: true\n",
    "---"
   ]
  },
  {
   "cell_type": "markdown",
   "metadata": {},
   "source": [
    "# **Objective:**\n",
    "- Insertion Sort: Sort an array in ascending order using the Insertion Sort algorithm.\n",
    "- Selection Sort: Sort an array in ascending order using the Selection Sort algorithm."
   ]
  },
  {
   "cell_type": "code",
   "execution_count": 32,
   "metadata": {},
   "outputs": [
    {
     "name": "stdout",
     "output_type": "stream",
     "text": [
      "Insertion Sort:\n",
      "\n",
      "\n",
      "Final Result: [4, 9, 10, 12, 13, 14, 18, 23, 25, 28, 29, 30, 37, 40, 50]\n",
      "=================================================\n",
      "Selection Sort: \n",
      "[4, 9, 10, 12, 13, 14, 18, 23, 25, 28, 29, 30, 37, 40, 50]\n",
      "[4, 9, 10, 12, 13, 14, 18, 23, 25, 28, 29, 30, 37, 40, 50]\n",
      "[4, 9, 10, 12, 13, 14, 18, 23, 25, 28, 29, 30, 37, 40, 50]\n",
      "[4, 9, 10, 12, 13, 14, 18, 23, 25, 28, 29, 30, 37, 40, 50]\n",
      "[4, 9, 10, 12, 13, 14, 18, 23, 25, 28, 29, 30, 37, 40, 50]\n",
      "[4, 9, 10, 12, 13, 14, 18, 23, 25, 28, 29, 30, 37, 40, 50]\n",
      "[4, 9, 10, 12, 13, 14, 18, 23, 25, 28, 29, 30, 37, 40, 50]\n",
      "[4, 9, 10, 12, 13, 14, 18, 23, 25, 28, 29, 30, 37, 40, 50]\n",
      "[4, 9, 10, 12, 13, 14, 18, 23, 25, 28, 29, 30, 37, 40, 50]\n",
      "[4, 9, 10, 12, 13, 14, 18, 23, 25, 28, 29, 30, 37, 40, 50]\n",
      "[4, 9, 10, 12, 13, 14, 18, 23, 25, 28, 29, 30, 37, 40, 50]\n",
      "[4, 9, 10, 12, 13, 14, 18, 23, 25, 28, 29, 30, 37, 40, 50]\n",
      "[4, 9, 10, 12, 13, 14, 18, 23, 25, 28, 29, 30, 37, 40, 50]\n",
      "[4, 9, 10, 12, 13, 14, 18, 23, 25, 28, 29, 30, 37, 40, 50]\n",
      "[4, 9, 10, 12, 13, 14, 18, 23, 25, 28, 29, 30, 37, 40, 50]\n",
      "\n",
      " Final Result: [4, 9, 10, 12, 13, 14, 18, 23, 25, 28, 29, 30, 37, 40, 50]\n",
      "=================================================\n"
     ]
    }
   ],
   "source": [
    "import java.util.Arrays;\n",
    "\n",
    "// Test Array\n",
    "int[] supplies = {29, 10, 14, 37, 13, 18, 25, 30, 4, 9, 12, 40, 50, 23, 28};\n",
    "\n",
    "// Insertion Sort\n",
    "public static void insertionSort(int[] arr) {\n",
    "    System.out.println(\"Insertion Sort:\\n\");\n",
    "\n",
    "    for (int i = 1; i < arr.length; i++) {\n",
    "        int key = arr[i];\n",
    "        int j   = i - 1;\n",
    "\n",
    "        while (j >= 0 && arr[j] > key) {\n",
    "            arr[j + 1] = arr[j];\n",
    "            j--;\n",
    "        }\n",
    "\n",
    "        arr[j + 1] = key;\n",
    "    }\n",
    "    \n",
    "    System.out.println(\"\\nFinal Result: \" + Arrays.toString(arr));\n",
    "    System.out.println(\"=================================================\");\n",
    "}\n",
    "\n",
    "\n",
    "// Selection Sort\n",
    "public static void selectionSort(int[] arr) {\n",
    "    int currentMin;\n",
    "    String results;\n",
    "    int tempVar;\n",
    "    int minIndex;\n",
    "    \n",
    "    System.out.println(\"Selection Sort: \");\n",
    "    for (int i = 0; i < arr.length; i++) {\n",
    "        currentMin = arr[i];\n",
    "        minIndex= i;\n",
    "\n",
    "        for (int c = 0; c < (arr.length - i); c++) {\n",
    "            if (arr[c + i] < currentMin) {\n",
    "                currentMin = arr[c + i];\n",
    "                minIndex = c + i;\n",
    "            }\n",
    "        }\n",
    "\n",
    "        tempVar = arr[i];\n",
    "        arr[i] = arr[minIndex];\n",
    "        arr[minIndex] = tempVar;\n",
    "        \n",
    "        results = Arrays.toString(arr);\n",
    "\n",
    "        System.out.println(results);\n",
    "    }\n",
    "\n",
    "    results = Arrays.toString(arr);\n",
    "\n",
    "    System.out.println(\"\\n Final Result: \" + results);\n",
    "    System.out.println(\"=================================================\");\n",
    "}\n",
    "\n",
    "insertionSort(supplies);\n",
    "selectionSort(supplies);"
   ]
  }
 ],
 "metadata": {
  "kernelspec": {
   "display_name": "Java",
   "language": "java",
   "name": "java"
  },
  "language_info": {
   "codemirror_mode": "java",
   "file_extension": ".jshell",
   "mimetype": "text/x-java-source",
   "name": "java",
   "pygments_lexer": "java",
   "version": "11.0.26+4-post-Ubuntu-1ubuntu122.04"
  }
 },
 "nbformat": 4,
 "nbformat_minor": 2
}
